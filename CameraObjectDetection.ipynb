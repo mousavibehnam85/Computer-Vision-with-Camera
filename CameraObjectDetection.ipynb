{
 "cells": [
  {
   "cell_type": "code",
   "execution_count": 1,
   "id": "5f5f93b3-ecdd-47f5-9720-a3c2b5b402da",
   "metadata": {},
   "outputs": [
    {
     "name": "stderr",
     "output_type": "stream",
     "text": [
      "Using cache found in /Users/behnam/.cache/torch/hub/ultralytics_yolov5_master\n",
      "YOLOv5 🚀 2024-1-31 Python-3.9.18 torch-2.1.2 CPU\n",
      "\n",
      "Fusing layers... \n",
      "YOLOv5s summary: 213 layers, 7225885 parameters, 0 gradients, 16.4 GFLOPs\n",
      "Adding AutoShape... \n"
     ]
    }
   ],
   "source": [
    "import cv2\n",
    "import torch\n",
    "from yolov5 import YOLOv5  # Import the YOLOv5 model\n",
    "\n",
    "# Load the pre-trained YOLOv5 model\n",
    "model = torch.hub.load('ultralytics/yolov5', 'yolov5s', pretrained=True)  # Adjust 'yolov5s' as needed for different sizes\n",
    "\n",
    "# Connect to the computer's webcam\n",
    "cap = cv2.VideoCapture(0)  # 0 corresponds to the default camera, you can change it if you have multiple cameras\n"
   ]
  },
  {
   "cell_type": "code",
   "execution_count": null,
   "id": "2b8e4c20-b7f2-44a8-96ad-f8c657bd5bd0",
   "metadata": {},
   "outputs": [],
   "source": [
    "while True:\n",
    "    # Capture frame-by-frame\n",
    "    ret, frame = cap.read()\n",
    "\n",
    "    # Perform inference\n",
    "    results = model(frame)  # Use the model directly with parentheses instead of .predict()\n",
    "\n",
    "    # Process results\n",
    "    detections = results.xyxy[0]  # Detections in xyxy format\n",
    "\n",
    "    # Iterate through detections and draw boxes\n",
    "    for det in detections:\n",
    "        x1, y1, x2, y2, conf, cls = det.cpu().numpy()\n",
    "        class_name = results.names[int(cls)]\n",
    "\n",
    "        # Draw rectangle\n",
    "        cv2.rectangle(frame, (int(x1), int(y1)), (int(x2), int(y2)), (255, 0, 0), 2)\n",
    "\n",
    "        # Put label\n",
    "        cv2.putText(frame, f'{class_name} {conf:.2f}', (int(x1), int(y1-10)), cv2.FONT_HERSHEY_SIMPLEX, 0.5, (255, 255, 255), 2)\n",
    "\n",
    "    # Display the resulting frame\n",
    "    cv2.imshow(\"Webcam Detections\", frame)\n",
    "\n",
    "    # Break the loop if 'q' is pressed\n",
    "    if cv2.waitKey(1) & 0xFF == ord('q'):\n",
    "        break\n",
    "# Release the webcam and close all OpenCV windows\n",
    "cap.release()\n",
    "cv2.destroyAllWindows()        "
   ]
  },
  {
   "cell_type": "code",
   "execution_count": null,
   "id": "158709da-7626-4107-92d5-ceb623862783",
   "metadata": {},
   "outputs": [],
   "source": []
  },
  {
   "cell_type": "code",
   "execution_count": null,
   "id": "893139ae-f208-4c26-95e7-491039779789",
   "metadata": {},
   "outputs": [],
   "source": []
  },
  {
   "cell_type": "code",
   "execution_count": null,
   "id": "4dc74a3d-595a-40a0-bbb2-4f934f16d590",
   "metadata": {},
   "outputs": [],
   "source": []
  }
 ],
 "metadata": {
  "kernelspec": {
   "display_name": "Python 3.9",
   "language": "python",
   "name": "python3.9"
  },
  "language_info": {
   "codemirror_mode": {
    "name": "ipython",
    "version": 3
   },
   "file_extension": ".py",
   "mimetype": "text/x-python",
   "name": "python",
   "nbconvert_exporter": "python",
   "pygments_lexer": "ipython3",
   "version": "3.9.18"
  }
 },
 "nbformat": 4,
 "nbformat_minor": 5
}
