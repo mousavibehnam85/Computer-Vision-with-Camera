{
 "cells": [
  {
   "cell_type": "code",
   "execution_count": 1,
   "id": "15664e21-30d5-496a-9b6c-6ce6430f7d5c",
   "metadata": {},
   "outputs": [
    {
     "name": "stderr",
     "output_type": "stream",
     "text": [
      "Using cache found in /Users/behnam/.cache/torch/hub/ultralytics_yolov5_master\n",
      "YOLOv5 🚀 2024-1-31 Python-3.9.18 torch-2.1.2 CPU\n",
      "\n",
      "Fusing layers... \n",
      "YOLOv5s summary: 213 layers, 7225885 parameters, 0 gradients, 16.4 GFLOPs\n",
      "Adding AutoShape... \n"
     ]
    }
   ],
   "source": [
    "import cv2\n",
    "import torch\n",
    "from yolov5 import YOLOv5  # Import the YOLOv5 model\n",
    "\n",
    "# Load the pre-trained YOLOv5 model\n",
    "model = torch.hub.load('ultralytics/yolov5', 'yolov5s', pretrained=True)  # Adjust 'yolov5s' as needed for different sizes\n",
    "\n",
    "# Specify the path to your image\n",
    "image_path = 'FighterJets1.png'\n",
    "\n",
    "# Load the image using OpenCV\n",
    "image = cv2.imread(image_path)\n"
   ]
  },
  {
   "cell_type": "code",
   "execution_count": 2,
   "id": "529b8099-2f82-42c2-b531-97882be91c66",
   "metadata": {},
   "outputs": [],
   "source": [
    "# Perform inference\n",
    "results = model(image)  # Use the model directly with parentheses instead of .predict()\n",
    "\n",
    "# Process results\n",
    "detections = results.xyxy[0]  # Detections in xyxy format\n",
    "\n",
    "# Iterate through detections and draw boxes\n",
    "for det in detections:\n",
    "    x1, y1, x2, y2, conf, cls = det.cpu().numpy()\n",
    "    class_name = results.names[int(cls)]\n",
    "    \n",
    "    # Draw rectangle\n",
    "    cv2.rectangle(image, (int(x1), int(y1)), (int(x2), int(y2)), (255, 0, 0), 2)\n",
    "    \n",
    "    # Put label\n",
    "    cv2.putText(image, f'{class_name} {conf:.2f}', (int(x1), int(y1-10)), cv2.FONT_HERSHEY_SIMPLEX, 0.5, (255, 255, 255), 2)\n"
   ]
  },
  {
   "cell_type": "code",
   "execution_count": null,
   "id": "73ef059f-216f-4f05-a147-a02ff09a28e9",
   "metadata": {},
   "outputs": [],
   "source": [
    "# Show the image with bounding boxes\n",
    "cv2.imshow(\"Detections\", image)\n",
    "cv2.waitKey(0)\n",
    "cv2.destroyAllWindows()"
   ]
  },
  {
   "cell_type": "code",
   "execution_count": null,
   "id": "db341741-0409-4c5d-ad14-01907aa9270c",
   "metadata": {},
   "outputs": [],
   "source": []
  }
 ],
 "metadata": {
  "kernelspec": {
   "display_name": "Python 3.9",
   "language": "python",
   "name": "python3.9"
  },
  "language_info": {
   "codemirror_mode": {
    "name": "ipython",
    "version": 3
   },
   "file_extension": ".py",
   "mimetype": "text/x-python",
   "name": "python",
   "nbconvert_exporter": "python",
   "pygments_lexer": "ipython3",
   "version": "3.9.18"
  }
 },
 "nbformat": 4,
 "nbformat_minor": 5
}
